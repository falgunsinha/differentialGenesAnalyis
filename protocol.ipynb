{
  "metadata": {
    "kernelspec": {
      "name": "python",
      "display_name": "Python (Pyodide)",
      "language": "python"
    },
    "language_info": {
      "codemirror_mode": {
        "name": "python",
        "version": 3
      },
      "file_extension": ".py",
      "mimetype": "text/x-python",
      "name": "python",
      "nbconvert_exporter": "python",
      "pygments_lexer": "ipython3",
      "version": "3.8"
    }
  },
  "nbformat_minor": 5,
  "nbformat": 4,
  "cells": [
    {
      "id": "281efe9f-13d9-4338-8c04-9b042f3d7ba4",
      "cell_type": "markdown",
      "source": "# <span style=\"color:blue\"><u>Protocol</u></span>",
      "metadata": {
        "editable": true,
        "slideshow": {
          "slide_type": ""
        },
        "tags": []
      }
    },
    {
      "id": "49fc338d-bae3-4079-bfab-74e5301a6400",
      "cell_type": "markdown",
      "source": "## <span style=\"font-family: Arial; font-size: 18px; color:blue\">1. Connecting to Linux VM using SSH key</span>",
      "metadata": {
        "editable": true,
        "slideshow": {
          "slide_type": ""
        },
        "tags": []
      },
      "attachments": {}
    },
    {
      "id": "47d1e20a-3c38-4e64-9723-c45807be0455",
      "cell_type": "markdown",
      "source": "i. Connected to Linux VM by specifying the IP address and path to ssh key.",
      "metadata": {
        "editable": true,
        "slideshow": {
          "slide_type": ""
        },
        "tags": []
      },
      "attachments": {}
    },
    {
      "id": "bf9bc63d-3405-4042-9f9e-51309bbf5549",
      "cell_type": "code",
      "source": "ssh ubuntu@10.00.0.00 -i \"C:\\Users\\YourUsername\\Documents\\sshkey_vm.txt\"",
      "metadata": {},
      "outputs": [],
      "execution_count": null
    },
    {
      "id": "62c48d5e-d5a8-4486-b74e-170713b82541",
      "cell_type": "markdown",
      "source": "## <span style=\"font-family: Arial; font-size: 18px; color:blue\">2. Installing miniconda on Linux VM</span>",
      "metadata": {},
      "attachments": {}
    },
    {
      "id": "144e6d56-a6e6-4fb3-96bf-d5e2697ea5ff",
      "cell_type": "markdown",
      "source": "i.  Created a directory named miniconda3 in home directory of VM, installed & activated miniconda.",
      "metadata": {
        "editable": true,
        "slideshow": {
          "slide_type": ""
        },
        "tags": []
      }
    },
    {
      "id": "254a0aba-3738-4c6e-bd39-3c8d966ce371",
      "cell_type": "code",
      "source": "mkdir -p ~/miniconda3\nwget https://repo.anaconda.com/miniconda/Miniconda3-latest-Linux-x86_64.sh -O ~/miniconda3/miniconda.sh\nbash ~/miniconda3/miniconda.sh -b -u -p ~/miniconda3\nrm ~/miniconda3/miniconda.sh\nsource ~/miniconda3/bin/activate",
      "metadata": {},
      "outputs": [],
      "execution_count": null
    },
    {
      "id": "8dbb6299-a073-4a16-8416-60f1bfa93674",
      "cell_type": "markdown",
      "source": "## <span style=\"font-family: Arial; font-size: 18px; color:blue\">3. Setting up conda & bio environment</span>",
      "metadata": {},
      "attachments": {}
    },
    {
      "id": "129feb16-3b10-4408-9dbf-71b1e8677744",
      "cell_type": "markdown",
      "source": "i.  Added the channels conda-forge and bioconda under base and set the strict priority.",
      "metadata": {}
    },
    {
      "id": "13783262-9f53-4a11-ba5e-7ba6611a0984",
      "cell_type": "code",
      "source": "conda config --add channels conda-forge\nconda config --add channels bioconda\nconda config --set channel_priority strict",
      "metadata": {},
      "outputs": [],
      "execution_count": null
    },
    {
      "id": "61176d91-4e09-48c0-9a62-fa481c53c053",
      "cell_type": "markdown",
      "source": "ii. Created environment with the name ‘bio’ and with the python version 3.9 & activated it.",
      "metadata": {
        "editable": true,
        "slideshow": {
          "slide_type": ""
        },
        "tags": []
      },
      "attachments": {}
    },
    {
      "id": "0c8aa58f-47ee-4fd8-a945-61954bdaed72",
      "cell_type": "code",
      "source": "conda create --name bio python=3.9\nconda activate bio",
      "metadata": {},
      "outputs": [],
      "execution_count": null
    },
    {
      "id": "630ac7e7-cef7-4539-a073-25fa9ed946df",
      "cell_type": "markdown",
      "source": "## <span style=\"font-family: Arial; font-size: 18px; color:blue\">4. Installing packages</span>",
      "metadata": {}
    },
    {
      "id": "2877d6c8-d4ee-44bf-9422-3db237e8c356",
      "cell_type": "markdown",
      "source": "i. Installed fastqc under ‘bio’ environment & the core R package (r-base) from the conda-forge channel.",
      "metadata": {},
      "attachments": {}
    },
    {
      "id": "5bc072f4-f3ce-47ce-b107-fc13f1507e35",
      "cell_type": "code",
      "source": "conda install fastqc\nconda install -c conda-forge r-base\nR",
      "metadata": {},
      "outputs": [],
      "execution_count": null
    },
    {
      "id": "bf8e29b3-16c8-472f-a7b0-e7a49c6ea4fc",
      "cell_type": "markdown",
      "source": "ii. Installed the Irkernel within R.",
      "metadata": {},
      "attachments": {}
    },
    {
      "id": "9af6a863-841f-4072-9454-cac676ee8417",
      "cell_type": "code",
      "source": "> install.packages('IRkernel')",
      "metadata": {},
      "outputs": [],
      "execution_count": null
    },
    {
      "id": "11804917-f209-40a1-aaea-7b4ebffc2450",
      "cell_type": "markdown",
      "source": "iii. Selected the CRAN mirror as 1: 0-Cloud [https] & Quit R, but saved the workspace image.",
      "metadata": {}
    },
    {
      "id": "5b8f946c-08e3-47da-90c0-a7994f12f8db",
      "cell_type": "code",
      "source": "> q()\nSave workspace image? [y/n/c]: y",
      "metadata": {},
      "outputs": [],
      "execution_count": null
    },
    {
      "id": "617b2bfe-d777-4186-80b3-9af80a129da0",
      "cell_type": "markdown",
      "source": "iv. Installed Jupyter under bio environment & used R from Jupyter notebook.",
      "metadata": {}
    },
    {
      "id": "8339504d-46de-413d-821c-fe9f2305dcf6",
      "cell_type": "code",
      "source": "conda install -c conda-forge Jupyter\nR -e \"IRkernel::installspec()\"",
      "metadata": {},
      "outputs": [],
      "execution_count": null
    },
    {
      "id": "ec3c2329-7241-47fe-99d7-1deecc1f35a8",
      "cell_type": "markdown",
      "source": "v. Configured and started the Jupyter server.",
      "metadata": {},
      "attachments": {}
    },
    {
      "id": "6f5b095a-ab2c-4396-93f5-5ec3c391a154",
      "cell_type": "code",
      "source": "jupyter server --generate-config\njupyter server password\njupyter lab --no-browser --ip \"*\"",
      "metadata": {},
      "outputs": [],
      "execution_count": null
    },
    {
      "id": "7d855f12-b607-4d24-b227-0ec9322f1163",
      "cell_type": "markdown",
      "source": "## <span style=\"font-family: Arial; font-size: 18px; color:blue\">5. Connecting to Jupyter Server via tmux session</span>",
      "metadata": {}
    },
    {
      "id": "7eaeda7e-0eb0-4172-93fc-e8b924dfcc2d",
      "cell_type": "markdown",
      "source": "i. Started a new connection to the Linux VM. Created a new tmux session with the name ”jserver”.",
      "metadata": {},
      "attachments": {}
    },
    {
      "id": "78567caf-a8e2-465f-bb3e-34298557dc8e",
      "cell_type": "code",
      "source": "tmux new -s jserver",
      "metadata": {},
      "outputs": [],
      "execution_count": null
    },
    {
      "id": "80438213-a061-4ba0-ae55-db0fc88d6480",
      "cell_type": "markdown",
      "source": "ii. Started the Jupyter server in the session and detached from the session by pressing control + b, and then d.",
      "metadata": {}
    },
    {
      "id": "6926e5f3-b44e-4f87-a3c2-5e3528cef02d",
      "cell_type": "code",
      "source": "jupyter lab --no-browser --ip \"localhost\" [detached (from session jserver)]",
      "metadata": {},
      "outputs": [],
      "execution_count": null
    },
    {
      "id": "73e21cd2-c47c-4a5c-8bee-40c7fdbbeaa0",
      "cell_type": "markdown",
      "source": "iii. Established an SSH tunnel for Jupyter notebook and opened in browser by with URL - http://localhost:8888/",
      "metadata": {},
      "attachments": {}
    },
    {
      "id": "aff237e3-92e2-432e-ac7b-1e3ca916a92e",
      "cell_type": "code",
      "source": "ssh -i \"C:\\Users\\YourUsername\\Documents\\sshkey_vm.txt\" -L 8888:localhost:8888 ubuntu@10.00.0.00",
      "metadata": {},
      "outputs": [],
      "execution_count": null
    },
    {
      "id": "3315c500-0eb3-4611-8044-6ec23daa8e39",
      "cell_type": "markdown",
      "source": "## <span style=\"font-family: Arial; font-size: 18px; color:blue\">6. Setting up project direcotories & downloading files</span>",
      "metadata": {}
    },
    {
      "id": "31d87c2f-e7b2-45a2-a3b1-cc75760420c6",
      "cell_type": "markdown",
      "source": "i. Created directory structure for the project. Project’s Parent Directory Name: bioproject.",
      "metadata": {},
      "attachments": {}
    },
    {
      "id": "d0ced9e5-75a7-4350-ab74-ab89dd78b019",
      "cell_type": "code",
      "source": "mkdir -p bioproject/{rawdata,reference,fastqc,filtered,alignment,counts,scripts,deseq2}",
      "metadata": {},
      "outputs": [],
      "execution_count": null
    },
    {
      "id": "4f07cca7-c84e-43be-a6c7-1d1b96c56175",
      "cell_type": "markdown",
      "source": "ii. Downloaded the reference genome files - genome.fa, illumina_adapter.fa and annotation file - annotation.gtf into reference directory.",
      "metadata": {},
      "attachments": {}
    },
    {
      "id": "357c7769-42af-4bf9-aa9d-2cbb0d7861e6",
      "cell_type": "code",
      "source": "wget <URL>/genome.fa -O reference/genome.fa\nwget <URL>/illumina_adapter.fa -O reference/illumina_adapter.fa\nwget <URL>/annotation.gtf -O reference /annotation.gtf",
      "metadata": {
        "editable": true,
        "slideshow": {
          "slide_type": ""
        },
        "tags": []
      },
      "outputs": [],
      "execution_count": null
    },
    {
      "id": "ad7b26c0-7733-4657-84e7-c3984325d010",
      "cell_type": "markdown",
      "source": "iii. Extracted the .tar file.",
      "metadata": {},
      "attachments": {}
    },
    {
      "id": "d26c7be3-931e-4d7d-a0bf-a83b606b53bb",
      "cell_type": "code",
      "source": "tar -xvf rawdata/fastq_files.tar -C rawdata",
      "metadata": {},
      "outputs": [],
      "execution_count": null
    },
    {
      "id": "278af8dc-2b64-41c4-9155-c3baeb5bffb6",
      "cell_type": "markdown",
      "source": "iv. Unzipped .gz files.",
      "metadata": {},
      "attachments": {}
    },
    {
      "id": "78ffaa48-d767-4026-a1ab-d114634b4ac9",
      "cell_type": "code",
      "source": "gunzip rawdata/*.fastq.gz",
      "metadata": {},
      "outputs": [],
      "execution_count": null
    },
    {
      "id": "052ce87e-aefc-498a-a665-02e38a8f4b9b",
      "cell_type": "markdown",
      "source": "## <span style=\"font-family: Arial; font-size: 18px; color:blue\">7. Installing bioconda packages & generating results</span>",
      "metadata": {}
    },
    {
      "id": "0c63d1d2-428f-434a-a444-6bff57a17f1e",
      "cell_type": "markdown",
      "source": "i. Activated conda environment again and installed the package fastqc.",
      "metadata": {}
    },
    {
      "id": "e354676f-8bc1-4970-8f61-3139fa8656a5",
      "cell_type": "code",
      "source": "conda activate bio\nconda install -c bioconda fastqc",
      "metadata": {},
      "outputs": [],
      "execution_count": null
    },
    {
      "id": "49e356f8-7264-4e3c-a0c5-48bc13ae9fd8",
      "cell_type": "markdown",
      "source": "ii. Set the channels’ priority to flexible and installed the package cutadapt.",
      "metadata": {}
    },
    {
      "id": "831577b2-d1eb-4aee-8fb9-9be18024469c",
      "cell_type": "code",
      "source": "conda config --set channel_priority flexible\nconda install -c bioconda cutadapt",
      "metadata": {},
      "outputs": [],
      "execution_count": null
    },
    {
      "id": "07b05f86-ae7d-42a0-b4ec-8f201912a491",
      "cell_type": "markdown",
      "source": "iii. Installed the package star, subread (for featurecounts) & bioconductor-deseq2",
      "metadata": {},
      "attachments": {}
    },
    {
      "id": "4cd54e9f-42f7-422c-82ec-1dff62bde107",
      "cell_type": "code",
      "source": "conda install -c bioconda star\nconda install -c bioconda subread\nconda install -c bioconda bioconductor-deseq2",
      "metadata": {},
      "outputs": [],
      "execution_count": null
    },
    {
      "id": "9575b544-35c2-4118-9cda-e5cc18ca595c",
      "cell_type": "markdown",
      "source": "iv. Changed the channels’ priority back to strict",
      "metadata": {},
      "attachments": {}
    },
    {
      "id": "07305a17-22a2-422d-8896-8664dfc77a17",
      "cell_type": "code",
      "source": "conda config --set channel_priority strict",
      "metadata": {},
      "outputs": [],
      "execution_count": null
    },
    {
      "id": "30d914c8-7d5b-4fb6-97e3-bab9ad51c819",
      "cell_type": "markdown",
      "source": "v. Created workflow.smk file to include and run steps using snakemake workflow.\nFirstly, ran the rule run_fastqc for quality control of the raw data & generated fastqc.zip and fastqc.html files.",
      "metadata": {},
      "attachments": {}
    },
    {
      "id": "eae93659-b75f-49a0-a1cc-e979171e1864",
      "cell_type": "code",
      "source": "snakemake --snakefile workflow.smk --cores 4 run_fastqc",
      "metadata": {},
      "outputs": [],
      "execution_count": null
    },
    {
      "id": "e1aaa665-8ac0-433f-a1e4-50e6d1e174d9",
      "cell_type": "markdown",
      "source": "vi. Ran the rule run_cutadapt with filter params for quality filtering of raw reads & generated filtered fastq files.",
      "metadata": {},
      "attachments": {}
    },
    {
      "id": "df7aa7df-f43d-4b88-8815-e47da2329ebe",
      "cell_type": "code",
      "source": "snakemake --snakefile workflow.smk --cores 4 run_cutadapt",
      "metadata": {},
      "outputs": [],
      "execution_count": null
    },
    {
      "id": "af67b8df-db87-4d33-9e2b-59559799bb35",
      "cell_type": "markdown",
      "source": "vii. Ran the rule run_starindex to generate genome indexes under alignment/STAR_index.",
      "metadata": {}
    },
    {
      "id": "2cd59baf-5171-4ec7-9f50-24ca6d4d594a",
      "cell_type": "code",
      "source": "snakemake --snakefile workflow.smk --cores 4 run_starindex",
      "metadata": {},
      "outputs": [],
      "execution_count": null
    },
    {
      "id": "e61208c4-5cca-4f22-832b-96f5a1c2ca9a",
      "cell_type": "markdown",
      "source": "viii. Installed samtools package to view SAM output files.",
      "metadata": {},
      "attachments": {}
    },
    {
      "id": "a9163b38-2701-4c89-b7ab-cea4b168720f",
      "cell_type": "code",
      "source": "conda install -c bioconda samtools",
      "metadata": {},
      "outputs": [],
      "execution_count": null
    },
    {
      "id": "230483bf-d9e1-4c42-a679-23823a02bf1f",
      "cell_type": "markdown",
      "source": "ix. Ran the rule run_starmapping with latency wait 30s to map reads to the genome & generate SAM & BAM files.",
      "metadata": {},
      "attachments": {}
    },
    {
      "id": "418fe72c-e9a2-4427-8918-3f15441b8db0",
      "cell_type": "code",
      "source": "snakemake --snakefile workflow.smk --cores 4 run_starmapping --latency-wait 30",
      "metadata": {},
      "outputs": [],
      "execution_count": null
    },
    {
      "id": "eb85e9b7-c9e2-4484-aa15-df5f294b66f3",
      "cell_type": "markdown",
      "source": "x. Ran the rule featurecounts to obtain reads counts on the gene level. Modified the original output of featureCounts to have only ‘Geneid’, ‘sample_0’, ‘sample_1’, ‘sample_2’, ‘sample_3’, ‘sample_4’ & ‘sample_5’ columns in the output file.",
      "metadata": {}
    },
    {
      "id": "ff3ee512-a681-4203-9b68-dcb29a024486",
      "cell_type": "code",
      "source": "snakemake --snakefile workflow.smk --cores 4 featurecounts",
      "metadata": {},
      "outputs": [],
      "execution_count": null
    },
    {
      "id": "9bfa7749-ed7b-495e-831f-818f744c2d3f",
      "cell_type": "markdown",
      "source": "xi. Created R script using DESeq2 library to detect differentially expressed genes by generating deseq2_up.txt (condition A) and deseq2_down.txt (condition B) files.\nRan the rule deseq2 to execute the R script.",
      "metadata": {},
      "attachments": {}
    },
    {
      "id": "87ab2e40-e9eb-454d-bf25-3e1bf945271e",
      "cell_type": "code",
      "source": "snakemake --snakefile workflow.smk --cores 4 deseq2",
      "metadata": {},
      "outputs": [],
      "execution_count": null
    }
  ]
}